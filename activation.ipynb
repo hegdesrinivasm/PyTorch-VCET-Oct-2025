{
 "cells": [
  {
   "cell_type": "code",
   "execution_count": 3,
   "id": "94c91c72",
   "metadata": {},
   "outputs": [],
   "source": [
    "import torch.nn as nn\n",
    "import torch"
   ]
  },
  {
   "cell_type": "code",
   "execution_count": 7,
   "id": "47f51cc9",
   "metadata": {},
   "outputs": [
    {
     "name": "stdout",
     "output_type": "stream",
     "text": [
      "tensor([0.5250, 0.4750])\n",
      "tensor([0.7616])\n"
     ]
    },
    {
     "name": "stderr",
     "output_type": "stream",
     "text": [
      "/Users/hegdesrinivasm/Development/Learning/ML-DL/PyTorch-VCET-Oct-2025/.venv/lib/python3.13/site-packages/torch/nn/modules/module.py:1775: UserWarning: Implicit dimension choice for softmax has been deprecated. Change the call to include dim=X as an argument.\n",
      "  return self._call_impl(*args, **kwargs)\n"
     ]
    }
   ],
   "source": [
    "relu = nn.ReLU()\n",
    "softmax = nn.Softmax()\n",
    "tan = nn.Tanh()\n",
    "\n",
    "x = torch.tensor([0.65, 0.55])\n",
    "print(softmax(x))\n",
    "\n",
    "x = torch.tensor([1])\n",
    "print(tan(x))"
   ]
  },
  {
   "cell_type": "markdown",
   "id": "146f71dd",
   "metadata": {},
   "source": [
    "Tasks for Day - 2:\n",
    "- Add activation function\n",
    "- 1 CNN layer\n",
    "- A Softmax layer at the end\n",
    "- Non linear layer"
   ]
  }
 ],
 "metadata": {
  "kernelspec": {
   "display_name": ".venv",
   "language": "python",
   "name": "python3"
  },
  "language_info": {
   "codemirror_mode": {
    "name": "ipython",
    "version": 3
   },
   "file_extension": ".py",
   "mimetype": "text/x-python",
   "name": "python",
   "nbconvert_exporter": "python",
   "pygments_lexer": "ipython3",
   "version": "3.13.8"
  }
 },
 "nbformat": 4,
 "nbformat_minor": 5
}
