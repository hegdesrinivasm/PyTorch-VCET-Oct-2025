{
 "cells": [
  {
   "cell_type": "code",
   "execution_count": null,
   "id": "21ce3a58",
   "metadata": {},
   "outputs": [],
   "source": [
    "import torch\n",
    "import torch.nn as nn"
   ]
  },
  {
   "cell_type": "code",
   "execution_count": 8,
   "id": "b9929162",
   "metadata": {},
   "outputs": [],
   "source": [
    "class model(nn.Module):\n",
    "     def __init__(self):\n",
    "          super().__init__()\n",
    "          self.first_layer = nn.Linear(in_features = 2, out_features = 5)\n",
    "          self.second_layer = nn.Linear(in_features = 5, out_features = 2)\n",
    "          self.third_layer = nn.Linear(in_features = 2, out_features = 1)\n",
    "     def forward(self, x):\n",
    "          x = self.first_layer(x)\n",
    "          x = self.second_layer(x)\n",
    "          x = self.third_layer(x)\n",
    "          return x"
   ]
  },
  {
   "cell_type": "code",
   "execution_count": 9,
   "id": "a9c04b3c",
   "metadata": {},
   "outputs": [],
   "source": [
    "model_a = model()"
   ]
  },
  {
   "cell_type": "code",
   "execution_count": 11,
   "id": "e92af296",
   "metadata": {},
   "outputs": [
    {
     "data": {
      "text/plain": [
       "tensor([0.2578], grad_fn=<ViewBackward0>)"
      ]
     },
     "execution_count": 11,
     "metadata": {},
     "output_type": "execute_result"
    }
   ],
   "source": [
    "model_a(torch.rand(2))"
   ]
  },
  {
   "cell_type": "code",
   "execution_count": 12,
   "id": "03fcd108",
   "metadata": {},
   "outputs": [
    {
     "name": "stdout",
     "output_type": "stream",
     "text": [
      "model(\n",
      "  (first_layer): Linear(in_features=2, out_features=5, bias=True)\n",
      "  (second_layer): Linear(in_features=5, out_features=2, bias=True)\n",
      "  (third_layer): Linear(in_features=2, out_features=1, bias=True)\n",
      ")\n"
     ]
    }
   ],
   "source": [
    "print(model_a)"
   ]
  }
 ],
 "metadata": {
  "kernelspec": {
   "display_name": ".venv",
   "language": "python",
   "name": "python3"
  },
  "language_info": {
   "codemirror_mode": {
    "name": "ipython",
    "version": 3
   },
   "file_extension": ".py",
   "mimetype": "text/x-python",
   "name": "python",
   "nbconvert_exporter": "python",
   "pygments_lexer": "ipython3",
   "version": "3.13.8"
  }
 },
 "nbformat": 4,
 "nbformat_minor": 5
}
